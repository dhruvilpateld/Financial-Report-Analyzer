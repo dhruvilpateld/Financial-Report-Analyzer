{
  "nbformat": 4,
  "nbformat_minor": 0,
  "metadata": {
    "colab": {
      "provenance": [],
      "mount_file_id": "1rEeozE3l36FNW_m9UqDN5y8SgAb3FHDZ",
      "authorship_tag": "ABX9TyM+pQYsB/K62NmymrREhyWB",
      "include_colab_link": true
    },
    "kernelspec": {
      "name": "python3",
      "display_name": "Python 3"
    },
    "language_info": {
      "name": "python"
    }
  },
  "cells": [
    {
      "cell_type": "markdown",
      "metadata": {
        "id": "view-in-github",
        "colab_type": "text"
      },
      "source": [
        "<a href=\"https://colab.research.google.com/github/dhruvilpateld/Financial-Report-Analyzer/blob/master/Flask_app.ipynb\" target=\"_parent\"><img src=\"https://colab.research.google.com/assets/colab-badge.svg\" alt=\"Open In Colab\"/></a>"
      ]
    },
    {
      "cell_type": "markdown",
      "source": [
        "Install ngrok"
      ],
      "metadata": {
        "id": "2ruogtm725ZX"
      }
    },
    {
      "cell_type": "code",
      "execution_count": 2,
      "metadata": {
        "colab": {
          "base_uri": "https://localhost:8080/"
        },
        "id": "n7mGKuQD2Ilb",
        "outputId": "39ab3bed-0ef2-4a3c-e30c-3b87a9736ddd"
      },
      "outputs": [
        {
          "output_type": "stream",
          "name": "stdout",
          "text": [
            "Requirement already satisfied: flask-ngrok in /usr/local/lib/python3.10/dist-packages (0.0.25)\n",
            "Requirement already satisfied: Flask>=0.8 in /usr/local/lib/python3.10/dist-packages (from flask-ngrok) (2.2.5)\n",
            "Requirement already satisfied: requests in /usr/local/lib/python3.10/dist-packages (from flask-ngrok) (2.27.1)\n",
            "Requirement already satisfied: Werkzeug>=2.2.2 in /usr/local/lib/python3.10/dist-packages (from Flask>=0.8->flask-ngrok) (2.3.6)\n",
            "Requirement already satisfied: Jinja2>=3.0 in /usr/local/lib/python3.10/dist-packages (from Flask>=0.8->flask-ngrok) (3.1.2)\n",
            "Requirement already satisfied: itsdangerous>=2.0 in /usr/local/lib/python3.10/dist-packages (from Flask>=0.8->flask-ngrok) (2.1.2)\n",
            "Requirement already satisfied: click>=8.0 in /usr/local/lib/python3.10/dist-packages (from Flask>=0.8->flask-ngrok) (8.1.6)\n",
            "Requirement already satisfied: urllib3<1.27,>=1.21.1 in /usr/local/lib/python3.10/dist-packages (from requests->flask-ngrok) (1.26.16)\n",
            "Requirement already satisfied: certifi>=2017.4.17 in /usr/local/lib/python3.10/dist-packages (from requests->flask-ngrok) (2023.7.22)\n",
            "Requirement already satisfied: charset-normalizer~=2.0.0 in /usr/local/lib/python3.10/dist-packages (from requests->flask-ngrok) (2.0.12)\n",
            "Requirement already satisfied: idna<4,>=2.5 in /usr/local/lib/python3.10/dist-packages (from requests->flask-ngrok) (3.4)\n",
            "Requirement already satisfied: MarkupSafe>=2.0 in /usr/local/lib/python3.10/dist-packages (from Jinja2>=3.0->Flask>=0.8->flask-ngrok) (2.1.3)\n"
          ]
        }
      ],
      "source": [
        "pip install flask-ngrok"
      ]
    },
    {
      "cell_type": "markdown",
      "source": [
        "change directory to saved model folder"
      ],
      "metadata": {
        "id": "2Zkx50VE3Xs4"
      }
    },
    {
      "cell_type": "code",
      "source": [
        "cd /content/drive/MyDrive/Flask-deploy-model"
      ],
      "metadata": {
        "colab": {
          "base_uri": "https://localhost:8080/"
        },
        "id": "He3CEVeo3Sqd",
        "outputId": "568ca588-b89a-4976-c509-56cf35af17b1"
      },
      "execution_count": 3,
      "outputs": [
        {
          "output_type": "stream",
          "name": "stdout",
          "text": [
            "/content/drive/MyDrive/Flask-deploy-model\n"
          ]
        }
      ]
    },
    {
      "cell_type": "code",
      "source": [
        "!pip install transformers"
      ],
      "metadata": {
        "colab": {
          "base_uri": "https://localhost:8080/"
        },
        "id": "30bFqRRiJjhV",
        "outputId": "20942697-5f68-4927-e3d7-722809ae2aa0"
      },
      "execution_count": 4,
      "outputs": [
        {
          "output_type": "stream",
          "name": "stdout",
          "text": [
            "Requirement already satisfied: transformers in /usr/local/lib/python3.10/dist-packages (4.31.0)\n",
            "Requirement already satisfied: filelock in /usr/local/lib/python3.10/dist-packages (from transformers) (3.12.2)\n",
            "Requirement already satisfied: huggingface-hub<1.0,>=0.14.1 in /usr/local/lib/python3.10/dist-packages (from transformers) (0.16.4)\n",
            "Requirement already satisfied: numpy>=1.17 in /usr/local/lib/python3.10/dist-packages (from transformers) (1.22.4)\n",
            "Requirement already satisfied: packaging>=20.0 in /usr/local/lib/python3.10/dist-packages (from transformers) (23.1)\n",
            "Requirement already satisfied: pyyaml>=5.1 in /usr/local/lib/python3.10/dist-packages (from transformers) (6.0.1)\n",
            "Requirement already satisfied: regex!=2019.12.17 in /usr/local/lib/python3.10/dist-packages (from transformers) (2022.10.31)\n",
            "Requirement already satisfied: requests in /usr/local/lib/python3.10/dist-packages (from transformers) (2.27.1)\n",
            "Requirement already satisfied: tokenizers!=0.11.3,<0.14,>=0.11.1 in /usr/local/lib/python3.10/dist-packages (from transformers) (0.13.3)\n",
            "Requirement already satisfied: safetensors>=0.3.1 in /usr/local/lib/python3.10/dist-packages (from transformers) (0.3.1)\n",
            "Requirement already satisfied: tqdm>=4.27 in /usr/local/lib/python3.10/dist-packages (from transformers) (4.65.0)\n",
            "Requirement already satisfied: fsspec in /usr/local/lib/python3.10/dist-packages (from huggingface-hub<1.0,>=0.14.1->transformers) (2023.6.0)\n",
            "Requirement already satisfied: typing-extensions>=3.7.4.3 in /usr/local/lib/python3.10/dist-packages (from huggingface-hub<1.0,>=0.14.1->transformers) (4.7.1)\n",
            "Requirement already satisfied: urllib3<1.27,>=1.21.1 in /usr/local/lib/python3.10/dist-packages (from requests->transformers) (1.26.16)\n",
            "Requirement already satisfied: certifi>=2017.4.17 in /usr/local/lib/python3.10/dist-packages (from requests->transformers) (2023.7.22)\n",
            "Requirement already satisfied: charset-normalizer~=2.0.0 in /usr/local/lib/python3.10/dist-packages (from requests->transformers) (2.0.12)\n",
            "Requirement already satisfied: idna<4,>=2.5 in /usr/local/lib/python3.10/dist-packages (from requests->transformers) (3.4)\n"
          ]
        }
      ]
    },
    {
      "cell_type": "code",
      "source": [
        "!pip install sumy"
      ],
      "metadata": {
        "colab": {
          "base_uri": "https://localhost:8080/"
        },
        "id": "h2XUQBHQjJWg",
        "outputId": "ee7cf293-3354-4d3e-ceae-fccebb8dd68b"
      },
      "execution_count": 5,
      "outputs": [
        {
          "output_type": "stream",
          "name": "stdout",
          "text": [
            "Requirement already satisfied: sumy in /usr/local/lib/python3.10/dist-packages (0.11.0)\n",
            "Requirement already satisfied: docopt<0.7,>=0.6.1 in /usr/local/lib/python3.10/dist-packages (from sumy) (0.6.2)\n",
            "Requirement already satisfied: breadability>=0.1.20 in /usr/local/lib/python3.10/dist-packages (from sumy) (0.1.20)\n",
            "Requirement already satisfied: requests>=2.7.0 in /usr/local/lib/python3.10/dist-packages (from sumy) (2.27.1)\n",
            "Requirement already satisfied: pycountry>=18.2.23 in /usr/local/lib/python3.10/dist-packages (from sumy) (22.3.5)\n",
            "Requirement already satisfied: nltk>=3.0.2 in /usr/local/lib/python3.10/dist-packages (from sumy) (3.8.1)\n",
            "Requirement already satisfied: chardet in /usr/local/lib/python3.10/dist-packages (from breadability>=0.1.20->sumy) (4.0.0)\n",
            "Requirement already satisfied: lxml>=2.0 in /usr/local/lib/python3.10/dist-packages (from breadability>=0.1.20->sumy) (4.9.3)\n",
            "Requirement already satisfied: click in /usr/local/lib/python3.10/dist-packages (from nltk>=3.0.2->sumy) (8.1.6)\n",
            "Requirement already satisfied: joblib in /usr/local/lib/python3.10/dist-packages (from nltk>=3.0.2->sumy) (1.3.1)\n",
            "Requirement already satisfied: regex>=2021.8.3 in /usr/local/lib/python3.10/dist-packages (from nltk>=3.0.2->sumy) (2022.10.31)\n",
            "Requirement already satisfied: tqdm in /usr/local/lib/python3.10/dist-packages (from nltk>=3.0.2->sumy) (4.65.0)\n",
            "Requirement already satisfied: setuptools in /usr/local/lib/python3.10/dist-packages (from pycountry>=18.2.23->sumy) (67.7.2)\n",
            "Requirement already satisfied: urllib3<1.27,>=1.21.1 in /usr/local/lib/python3.10/dist-packages (from requests>=2.7.0->sumy) (1.26.16)\n",
            "Requirement already satisfied: certifi>=2017.4.17 in /usr/local/lib/python3.10/dist-packages (from requests>=2.7.0->sumy) (2023.7.22)\n",
            "Requirement already satisfied: charset-normalizer~=2.0.0 in /usr/local/lib/python3.10/dist-packages (from requests>=2.7.0->sumy) (2.0.12)\n",
            "Requirement already satisfied: idna<4,>=2.5 in /usr/local/lib/python3.10/dist-packages (from requests>=2.7.0->sumy) (3.4)\n"
          ]
        }
      ]
    },
    {
      "cell_type": "code",
      "source": [
        "from transformers import BertForSequenceClassification, BertTokenizer\n",
        "import torch"
      ],
      "metadata": {
        "id": "lsPAo6TxJqhT"
      },
      "execution_count": 6,
      "outputs": []
    },
    {
      "cell_type": "code",
      "source": [
        "tokenizer = BertTokenizer.from_pretrained('ProsusAI/finbert')\n",
        "\n",
        "model = BertForSequenceClassification.from_pretrained('ProsusAI/finbert')"
      ],
      "metadata": {
        "id": "htVrhsq6JyM1"
      },
      "execution_count": 7,
      "outputs": []
    },
    {
      "cell_type": "code",
      "source": [
        "!pip install PyPDF2"
      ],
      "metadata": {
        "colab": {
          "base_uri": "https://localhost:8080/"
        },
        "id": "U1IG1bFvGSW_",
        "outputId": "c1f5e335-0e09-4039-c200-1c0eed34e6d4"
      },
      "execution_count": 8,
      "outputs": [
        {
          "output_type": "stream",
          "name": "stdout",
          "text": [
            "Requirement already satisfied: PyPDF2 in /usr/local/lib/python3.10/dist-packages (3.0.1)\n"
          ]
        }
      ]
    },
    {
      "cell_type": "code",
      "source": [
        "! pip install pyngrok"
      ],
      "metadata": {
        "colab": {
          "base_uri": "https://localhost:8080/"
        },
        "id": "l3zpMAJ1E0JM",
        "outputId": "857e326d-1991-4cf7-d311-edd4f8a7e350"
      },
      "execution_count": 9,
      "outputs": [
        {
          "output_type": "stream",
          "name": "stdout",
          "text": [
            "Requirement already satisfied: pyngrok in /usr/local/lib/python3.10/dist-packages (6.0.0)\n",
            "Requirement already satisfied: PyYAML in /usr/local/lib/python3.10/dist-packages (from pyngrok) (6.0.1)\n"
          ]
        }
      ]
    },
    {
      "cell_type": "code",
      "source": [
        "! ngrok authtoken 2OV11RctWtNAkLwZ031YcSRIVjf_3XZ69bp5CV4gwEiLhwBr"
      ],
      "metadata": {
        "colab": {
          "base_uri": "https://localhost:8080/"
        },
        "id": "qI-EEq9yFPdd",
        "outputId": "db0db1a9-b88c-440a-ad79-e3a27d230a64"
      },
      "execution_count": 10,
      "outputs": [
        {
          "output_type": "stream",
          "name": "stdout",
          "text": [
            "Authtoken saved to configuration file: /root/.ngrok2/ngrok.yml\n"
          ]
        }
      ]
    },
    {
      "cell_type": "markdown",
      "source": [
        "import required packages"
      ],
      "metadata": {
        "id": "o6OWuITx3jDu"
      }
    },
    {
      "cell_type": "code",
      "source": [
        "from flask_ngrok import run_with_ngrok\n",
        "from flask import Flask,request,render_template\n",
        "from werkzeug.utils import secure_filename\n",
        "import os\n",
        "import numpy as np\n",
        "from PyPDF2 import PdfReader\n",
        "from sumy.summarizers.lex_rank import LexRankSummarizer\n",
        "from sumy.parsers.plaintext import PlaintextParser\n",
        "from sumy.nlp.tokenizers import Tokenizer\n",
        "import nltk\n",
        "import textwrap\n",
        "nltk.download('punkt')\n",
        "import re"
      ],
      "metadata": {
        "id": "xKb9rPPO3lCC",
        "colab": {
          "base_uri": "https://localhost:8080/"
        },
        "outputId": "4cc01f54-50aa-4fc3-c9d9-a3d45b0697ba"
      },
      "execution_count": 11,
      "outputs": [
        {
          "output_type": "stream",
          "name": "stderr",
          "text": [
            "[nltk_data] Downloading package punkt to /root/nltk_data...\n",
            "[nltk_data]   Package punkt is already up-to-date!\n"
          ]
        }
      ]
    },
    {
      "cell_type": "markdown",
      "source": [
        "Create Flask Application"
      ],
      "metadata": {
        "id": "cm5qABbD4Rit"
      }
    },
    {
      "cell_type": "code",
      "source": [
        "from flask import Flask, request, render_template\n",
        "from werkzeug.utils import secure_filename\n",
        "import os\n",
        "\n",
        "app = Flask(__name__)\n",
        "\n",
        "run_with_ngrok(app)\n",
        "\n",
        "# Set the path to where the PDF files will be saved\n",
        "UPLOAD_FOLDER = 'pdf_uploads'\n",
        "app.config['UPLOAD_FOLDER'] = UPLOAD_FOLDER\n",
        "\n",
        "# Only allow PDF files to be uploaded\n",
        "ALLOWED_EXTENSIONS = {'pdf'}\n",
        "\n",
        "def allowed_file(filename):\n",
        "    return '.' in filename and \\\n",
        "           filename.rsplit('.', 1)[1].lower() in ALLOWED_EXTENSIONS\n",
        "\n",
        "@app.route('/')\n",
        "def index():\n",
        "    return render_template('index.html')\n",
        "\n",
        "@app.route('/upload', methods=['POST'])\n",
        "def upload_file():\n",
        "    # Check if the post request has the file part\n",
        "    if 'file' not in request.files:\n",
        "        return 'No file part'\n",
        "    file = request.files['file']\n",
        "    # If user does not select file, browser also\n",
        "    # submit an empty part without filename\n",
        "    if file.filename == '':\n",
        "        return 'No selected file'\n",
        "    if file and allowed_file(file.filename):\n",
        "        filename = secure_filename(file.filename)\n",
        "        file.save(os.path.join(app.config['UPLOAD_FOLDER'], filename))\n",
        "\n",
        "        txt = \"\"\" \"\"\"\n",
        "        reader = PdfReader(os.path.join('pdf_uploads',filename))\n",
        "        number_of_pages = len(reader.pages)\n",
        "        for i in range(number_of_pages):\n",
        "            page = reader.pages[i]\n",
        "            text = page.extract_text()\n",
        "            txt += text\n",
        "\n",
        "        tokens = tokenizer.encode_plus(txt, add_special_tokens=False, return_tensors = 'pt')\n",
        "\n",
        "        input_id_chunks = tokens['input_ids'][0].split(510)\n",
        "        attention_mask_chunks = tokens['attention_mask'][0].split(510)\n",
        "\n",
        "        chunksize = 512\n",
        "        input_id_chunks = list(tokens['input_ids'][0].split(chunksize - 2))\n",
        "        attention_mask_chunks = list(tokens['attention_mask'][0].split(chunksize - 2))\n",
        "\n",
        "        for i in range(len(input_id_chunks)):\n",
        "            input_id_chunks[i] = torch.cat([\n",
        "                torch.tensor([101]), input_id_chunks[i], torch.tensor([102])\n",
        "            ])\n",
        "\n",
        "            attention_mask_chunks[i] = torch.cat([\n",
        "                torch.tensor([1]), attention_mask_chunks[i], torch.tensor([1])\n",
        "            ])\n",
        "\n",
        "            pad_length = chunksize - input_id_chunks[i].shape[0]\n",
        "\n",
        "            if pad_length > 0:\n",
        "                input_id_chunks[i] = torch.cat([\n",
        "                    input_id_chunks[i], torch.Tensor([0] * pad_length)\n",
        "                ])\n",
        "                attention_mask_chunks[i] = torch.cat([\n",
        "                    attention_mask_chunks[i], torch.Tensor([0] * pad_length)\n",
        "                ])\n",
        "\n",
        "        input_ids = torch.stack(input_id_chunks)\n",
        "        attention_mask = torch.stack(attention_mask_chunks)\n",
        "\n",
        "        input_dict = {\n",
        "            'input_ids' : input_ids.long(),\n",
        "            'attention_mask' : attention_mask.int()\n",
        "        }\n",
        "\n",
        "        outputs = model(**input_dict)\n",
        "\n",
        "        probabilities = torch.nn.functional.softmax(outputs[0], dim = -1 )\n",
        "\n",
        "        mean_probabilities = probabilities.mean(dim = 0)\n",
        "        output1=round(mean_probabilities[0].item()*100, 2)\n",
        "        output2=round(mean_probabilities[2].item()*100, 2)\n",
        "        output3=round(mean_probabilities[1].item()*100, 2)\n",
        "\n",
        "        num_sentences=2\n",
        "        parser = PlaintextParser.from_string(txt, Tokenizer(\"english\"))\n",
        "        summarizer = LexRankSummarizer()\n",
        "        summary = summarizer(parser.document, num_sentences)\n",
        "        summary_text = \" \".join(str(sentence) for sentence in summary)\n",
        "        summary_text = summary_text.replace(\"\\n\", \" \")\n",
        "        summary_text = summary_text.split(\" o \")\n",
        "        summary_text = \"\\n\".join(summary_text)\n",
        "\n",
        "        input_txt=txt\n",
        "        summary = summary_text\n",
        "        sentences = re.split(r\"(?<=[!.?] •o )\\s\", summary)\n",
        "        new_text = \"\\n\".join(sentences)\n",
        "        wrapped_text = textwrap.fill(new_text, width=140)\n",
        "\n",
        "\n",
        "        # Render the success.html template and pass the output values as arguments\n",
        "        return render_template('success.html', filename=filename, output1=output1, output2=output2, output3=output3, new_paragraph=wrapped_text)\n",
        "    else:\n",
        "        return 'Invalid file type'\n",
        "\n",
        "\n",
        "if __name__ == '__main__':\n",
        "    app.run()\n"
      ],
      "metadata": {
        "id": "JHUBa9vJ4TlS",
        "colab": {
          "base_uri": "https://localhost:8080/"
        },
        "outputId": "b2a4c431-78fd-4e22-a3b2-602e83811bd3"
      },
      "execution_count": 12,
      "outputs": [
        {
          "output_type": "stream",
          "name": "stdout",
          "text": [
            " * Serving Flask app '__main__'\n",
            " * Debug mode: off\n"
          ]
        },
        {
          "output_type": "stream",
          "name": "stderr",
          "text": [
            "INFO:werkzeug:\u001b[31m\u001b[1mWARNING: This is a development server. Do not use it in a production deployment. Use a production WSGI server instead.\u001b[0m\n",
            " * Running on http://127.0.0.1:5000\n",
            "INFO:werkzeug:\u001b[33mPress CTRL+C to quit\u001b[0m\n"
          ]
        },
        {
          "output_type": "stream",
          "name": "stdout",
          "text": [
            " * Running on http://a884-34-135-68-132.ngrok-free.app\n",
            " * Traffic stats available on http://127.0.0.1:4040\n"
          ]
        },
        {
          "output_type": "stream",
          "name": "stderr",
          "text": [
            "INFO:werkzeug:127.0.0.1 - - [30/Jul/2023 10:46:45] \"GET / HTTP/1.1\" 200 -\n",
            "Token indices sequence length is longer than the specified maximum sequence length for this model (6308 > 512). Running this sequence through the model will result in indexing errors\n",
            "INFO:werkzeug:127.0.0.1 - - [30/Jul/2023 10:47:30] \"POST /upload HTTP/1.1\" 200 -\n"
          ]
        }
      ]
    },
    {
      "cell_type": "code",
      "source": [],
      "metadata": {
        "id": "dqA7A_yLb1Ea"
      },
      "execution_count": 12,
      "outputs": []
    }
  ]
}